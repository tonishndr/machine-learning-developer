{
  "nbformat": 4,
  "nbformat_minor": 0,
  "metadata": {
    "colab": {
      "name": "1stProjectNLP-submission.ipynb",
      "provenance": []
    },
    "kernelspec": {
      "name": "python3",
      "display_name": "Python 3"
    },
    "language_info": {
      "name": "python"
    }
  },
  "cells": [
    {
      "cell_type": "markdown",
      "metadata": {
        "id": "kYUGnSzTBoQ4"
      },
      "source": [
        "**Data Preparation**"
      ]
    },
    {
      "cell_type": "code",
      "metadata": {
        "id": "ElY7ILYrQqOV"
      },
      "source": [
        "import pandas as pd\n",
        "df = pd.read_csv('/content/bbcnewsdata.csv', sep='\\t')"
      ],
      "execution_count": 1,
      "outputs": []
    },
    {
      "cell_type": "code",
      "metadata": {
        "colab": {
          "base_uri": "https://localhost:8080/"
        },
        "id": "0WG7deZqS8Y9",
        "outputId": "60e17fbc-97cc-4aa5-fced-a75eca56557e"
      },
      "source": [
        "df.info()"
      ],
      "execution_count": 2,
      "outputs": [
        {
          "output_type": "stream",
          "text": [
            "<class 'pandas.core.frame.DataFrame'>\n",
            "RangeIndex: 2225 entries, 0 to 2224\n",
            "Data columns (total 4 columns):\n",
            " #   Column    Non-Null Count  Dtype \n",
            "---  ------    --------------  ----- \n",
            " 0   category  2225 non-null   object\n",
            " 1   filename  2225 non-null   object\n",
            " 2   title     2225 non-null   object\n",
            " 3   content   2225 non-null   object\n",
            "dtypes: object(4)\n",
            "memory usage: 69.7+ KB\n"
          ],
          "name": "stdout"
        }
      ]
    },
    {
      "cell_type": "code",
      "metadata": {
        "colab": {
          "base_uri": "https://localhost:8080/",
          "height": 204
        },
        "id": "4kwPe5qeG-9M",
        "outputId": "31abf22b-28e8-407a-c2a2-c86f03671be7"
      },
      "source": [
        "df.tail() #sampel 2225 "
      ],
      "execution_count": 3,
      "outputs": [
        {
          "output_type": "execute_result",
          "data": {
            "text/html": [
              "<div>\n",
              "<style scoped>\n",
              "    .dataframe tbody tr th:only-of-type {\n",
              "        vertical-align: middle;\n",
              "    }\n",
              "\n",
              "    .dataframe tbody tr th {\n",
              "        vertical-align: top;\n",
              "    }\n",
              "\n",
              "    .dataframe thead th {\n",
              "        text-align: right;\n",
              "    }\n",
              "</style>\n",
              "<table border=\"1\" class=\"dataframe\">\n",
              "  <thead>\n",
              "    <tr style=\"text-align: right;\">\n",
              "      <th></th>\n",
              "      <th>category</th>\n",
              "      <th>filename</th>\n",
              "      <th>title</th>\n",
              "      <th>content</th>\n",
              "    </tr>\n",
              "  </thead>\n",
              "  <tbody>\n",
              "    <tr>\n",
              "      <th>2220</th>\n",
              "      <td>tech</td>\n",
              "      <td>397.txt</td>\n",
              "      <td>BT program to beat dialler scams</td>\n",
              "      <td>BT is introducing two initiatives to help bea...</td>\n",
              "    </tr>\n",
              "    <tr>\n",
              "      <th>2221</th>\n",
              "      <td>tech</td>\n",
              "      <td>398.txt</td>\n",
              "      <td>Spam e-mails tempt net shoppers</td>\n",
              "      <td>Computer users across the world continue to i...</td>\n",
              "    </tr>\n",
              "    <tr>\n",
              "      <th>2222</th>\n",
              "      <td>tech</td>\n",
              "      <td>399.txt</td>\n",
              "      <td>Be careful how you code</td>\n",
              "      <td>A new European directive could put software w...</td>\n",
              "    </tr>\n",
              "    <tr>\n",
              "      <th>2223</th>\n",
              "      <td>tech</td>\n",
              "      <td>400.txt</td>\n",
              "      <td>US cyber security chief resigns</td>\n",
              "      <td>The man making sure US computer networks are ...</td>\n",
              "    </tr>\n",
              "    <tr>\n",
              "      <th>2224</th>\n",
              "      <td>tech</td>\n",
              "      <td>401.txt</td>\n",
              "      <td>Losing yourself in online gaming</td>\n",
              "      <td>Online role playing games are time-consuming,...</td>\n",
              "    </tr>\n",
              "  </tbody>\n",
              "</table>\n",
              "</div>"
            ],
            "text/plain": [
              "     category  ...                                            content\n",
              "2220     tech  ...   BT is introducing two initiatives to help bea...\n",
              "2221     tech  ...   Computer users across the world continue to i...\n",
              "2222     tech  ...   A new European directive could put software w...\n",
              "2223     tech  ...   The man making sure US computer networks are ...\n",
              "2224     tech  ...   Online role playing games are time-consuming,...\n",
              "\n",
              "[5 rows x 4 columns]"
            ]
          },
          "metadata": {
            "tags": []
          },
          "execution_count": 3
        }
      ]
    },
    {
      "cell_type": "code",
      "metadata": {
        "colab": {
          "base_uri": "https://localhost:8080/"
        },
        "id": "iT0jqPYrWYAo",
        "outputId": "c254bc95-7d05-49b4-f91c-dcb460e214ca"
      },
      "source": [
        "df.isna().sum()"
      ],
      "execution_count": 4,
      "outputs": [
        {
          "output_type": "execute_result",
          "data": {
            "text/plain": [
              "category    0\n",
              "filename    0\n",
              "title       0\n",
              "content     0\n",
              "dtype: int64"
            ]
          },
          "metadata": {
            "tags": []
          },
          "execution_count": 4
        }
      ]
    },
    {
      "cell_type": "code",
      "metadata": {
        "colab": {
          "base_uri": "https://localhost:8080/",
          "height": 419
        },
        "id": "uUIS_eY0hfCc",
        "outputId": "d781a548-3545-49da-a895-f3dd1c42626f"
      },
      "source": [
        "bbc = df.drop(columns=['filename'])\n",
        "bbc"
      ],
      "execution_count": 5,
      "outputs": [
        {
          "output_type": "execute_result",
          "data": {
            "text/html": [
              "<div>\n",
              "<style scoped>\n",
              "    .dataframe tbody tr th:only-of-type {\n",
              "        vertical-align: middle;\n",
              "    }\n",
              "\n",
              "    .dataframe tbody tr th {\n",
              "        vertical-align: top;\n",
              "    }\n",
              "\n",
              "    .dataframe thead th {\n",
              "        text-align: right;\n",
              "    }\n",
              "</style>\n",
              "<table border=\"1\" class=\"dataframe\">\n",
              "  <thead>\n",
              "    <tr style=\"text-align: right;\">\n",
              "      <th></th>\n",
              "      <th>category</th>\n",
              "      <th>title</th>\n",
              "      <th>content</th>\n",
              "    </tr>\n",
              "  </thead>\n",
              "  <tbody>\n",
              "    <tr>\n",
              "      <th>0</th>\n",
              "      <td>business</td>\n",
              "      <td>Ad sales boost Time Warner profit</td>\n",
              "      <td>Quarterly profits at US media giant TimeWarne...</td>\n",
              "    </tr>\n",
              "    <tr>\n",
              "      <th>1</th>\n",
              "      <td>business</td>\n",
              "      <td>Dollar gains on Greenspan speech</td>\n",
              "      <td>The dollar has hit its highest level against ...</td>\n",
              "    </tr>\n",
              "    <tr>\n",
              "      <th>2</th>\n",
              "      <td>business</td>\n",
              "      <td>Yukos unit buyer faces loan claim</td>\n",
              "      <td>The owners of embattled Russian oil giant Yuk...</td>\n",
              "    </tr>\n",
              "    <tr>\n",
              "      <th>3</th>\n",
              "      <td>business</td>\n",
              "      <td>High fuel prices hit BA's profits</td>\n",
              "      <td>British Airways has blamed high fuel prices f...</td>\n",
              "    </tr>\n",
              "    <tr>\n",
              "      <th>4</th>\n",
              "      <td>business</td>\n",
              "      <td>Pernod takeover talk lifts Domecq</td>\n",
              "      <td>Shares in UK drinks and food firm Allied Dome...</td>\n",
              "    </tr>\n",
              "    <tr>\n",
              "      <th>...</th>\n",
              "      <td>...</td>\n",
              "      <td>...</td>\n",
              "      <td>...</td>\n",
              "    </tr>\n",
              "    <tr>\n",
              "      <th>2220</th>\n",
              "      <td>tech</td>\n",
              "      <td>BT program to beat dialler scams</td>\n",
              "      <td>BT is introducing two initiatives to help bea...</td>\n",
              "    </tr>\n",
              "    <tr>\n",
              "      <th>2221</th>\n",
              "      <td>tech</td>\n",
              "      <td>Spam e-mails tempt net shoppers</td>\n",
              "      <td>Computer users across the world continue to i...</td>\n",
              "    </tr>\n",
              "    <tr>\n",
              "      <th>2222</th>\n",
              "      <td>tech</td>\n",
              "      <td>Be careful how you code</td>\n",
              "      <td>A new European directive could put software w...</td>\n",
              "    </tr>\n",
              "    <tr>\n",
              "      <th>2223</th>\n",
              "      <td>tech</td>\n",
              "      <td>US cyber security chief resigns</td>\n",
              "      <td>The man making sure US computer networks are ...</td>\n",
              "    </tr>\n",
              "    <tr>\n",
              "      <th>2224</th>\n",
              "      <td>tech</td>\n",
              "      <td>Losing yourself in online gaming</td>\n",
              "      <td>Online role playing games are time-consuming,...</td>\n",
              "    </tr>\n",
              "  </tbody>\n",
              "</table>\n",
              "<p>2225 rows × 3 columns</p>\n",
              "</div>"
            ],
            "text/plain": [
              "      category  ...                                            content\n",
              "0     business  ...   Quarterly profits at US media giant TimeWarne...\n",
              "1     business  ...   The dollar has hit its highest level against ...\n",
              "2     business  ...   The owners of embattled Russian oil giant Yuk...\n",
              "3     business  ...   British Airways has blamed high fuel prices f...\n",
              "4     business  ...   Shares in UK drinks and food firm Allied Dome...\n",
              "...        ...  ...                                                ...\n",
              "2220      tech  ...   BT is introducing two initiatives to help bea...\n",
              "2221      tech  ...   Computer users across the world continue to i...\n",
              "2222      tech  ...   A new European directive could put software w...\n",
              "2223      tech  ...   The man making sure US computer networks are ...\n",
              "2224      tech  ...   Online role playing games are time-consuming,...\n",
              "\n",
              "[2225 rows x 3 columns]"
            ]
          },
          "metadata": {
            "tags": []
          },
          "execution_count": 5
        }
      ]
    },
    {
      "cell_type": "code",
      "metadata": {
        "colab": {
          "base_uri": "https://localhost:8080/",
          "height": 419
        },
        "id": "HD1JNudT9Yfb",
        "outputId": "110fa076-6fb2-458d-de76-e75f2efa6ca5"
      },
      "source": [
        "bbc['article'] = bbc['title'] + \" \" + bbc['content']\n",
        "bbc"
      ],
      "execution_count": 6,
      "outputs": [
        {
          "output_type": "execute_result",
          "data": {
            "text/html": [
              "<div>\n",
              "<style scoped>\n",
              "    .dataframe tbody tr th:only-of-type {\n",
              "        vertical-align: middle;\n",
              "    }\n",
              "\n",
              "    .dataframe tbody tr th {\n",
              "        vertical-align: top;\n",
              "    }\n",
              "\n",
              "    .dataframe thead th {\n",
              "        text-align: right;\n",
              "    }\n",
              "</style>\n",
              "<table border=\"1\" class=\"dataframe\">\n",
              "  <thead>\n",
              "    <tr style=\"text-align: right;\">\n",
              "      <th></th>\n",
              "      <th>category</th>\n",
              "      <th>title</th>\n",
              "      <th>content</th>\n",
              "      <th>article</th>\n",
              "    </tr>\n",
              "  </thead>\n",
              "  <tbody>\n",
              "    <tr>\n",
              "      <th>0</th>\n",
              "      <td>business</td>\n",
              "      <td>Ad sales boost Time Warner profit</td>\n",
              "      <td>Quarterly profits at US media giant TimeWarne...</td>\n",
              "      <td>Ad sales boost Time Warner profit  Quarterly p...</td>\n",
              "    </tr>\n",
              "    <tr>\n",
              "      <th>1</th>\n",
              "      <td>business</td>\n",
              "      <td>Dollar gains on Greenspan speech</td>\n",
              "      <td>The dollar has hit its highest level against ...</td>\n",
              "      <td>Dollar gains on Greenspan speech  The dollar h...</td>\n",
              "    </tr>\n",
              "    <tr>\n",
              "      <th>2</th>\n",
              "      <td>business</td>\n",
              "      <td>Yukos unit buyer faces loan claim</td>\n",
              "      <td>The owners of embattled Russian oil giant Yuk...</td>\n",
              "      <td>Yukos unit buyer faces loan claim  The owners ...</td>\n",
              "    </tr>\n",
              "    <tr>\n",
              "      <th>3</th>\n",
              "      <td>business</td>\n",
              "      <td>High fuel prices hit BA's profits</td>\n",
              "      <td>British Airways has blamed high fuel prices f...</td>\n",
              "      <td>High fuel prices hit BA's profits  British Air...</td>\n",
              "    </tr>\n",
              "    <tr>\n",
              "      <th>4</th>\n",
              "      <td>business</td>\n",
              "      <td>Pernod takeover talk lifts Domecq</td>\n",
              "      <td>Shares in UK drinks and food firm Allied Dome...</td>\n",
              "      <td>Pernod takeover talk lifts Domecq  Shares in U...</td>\n",
              "    </tr>\n",
              "    <tr>\n",
              "      <th>...</th>\n",
              "      <td>...</td>\n",
              "      <td>...</td>\n",
              "      <td>...</td>\n",
              "      <td>...</td>\n",
              "    </tr>\n",
              "    <tr>\n",
              "      <th>2220</th>\n",
              "      <td>tech</td>\n",
              "      <td>BT program to beat dialler scams</td>\n",
              "      <td>BT is introducing two initiatives to help bea...</td>\n",
              "      <td>BT program to beat dialler scams  BT is introd...</td>\n",
              "    </tr>\n",
              "    <tr>\n",
              "      <th>2221</th>\n",
              "      <td>tech</td>\n",
              "      <td>Spam e-mails tempt net shoppers</td>\n",
              "      <td>Computer users across the world continue to i...</td>\n",
              "      <td>Spam e-mails tempt net shoppers  Computer user...</td>\n",
              "    </tr>\n",
              "    <tr>\n",
              "      <th>2222</th>\n",
              "      <td>tech</td>\n",
              "      <td>Be careful how you code</td>\n",
              "      <td>A new European directive could put software w...</td>\n",
              "      <td>Be careful how you code  A new European direct...</td>\n",
              "    </tr>\n",
              "    <tr>\n",
              "      <th>2223</th>\n",
              "      <td>tech</td>\n",
              "      <td>US cyber security chief resigns</td>\n",
              "      <td>The man making sure US computer networks are ...</td>\n",
              "      <td>US cyber security chief resigns  The man makin...</td>\n",
              "    </tr>\n",
              "    <tr>\n",
              "      <th>2224</th>\n",
              "      <td>tech</td>\n",
              "      <td>Losing yourself in online gaming</td>\n",
              "      <td>Online role playing games are time-consuming,...</td>\n",
              "      <td>Losing yourself in online gaming  Online role ...</td>\n",
              "    </tr>\n",
              "  </tbody>\n",
              "</table>\n",
              "<p>2225 rows × 4 columns</p>\n",
              "</div>"
            ],
            "text/plain": [
              "      category  ...                                            article\n",
              "0     business  ...  Ad sales boost Time Warner profit  Quarterly p...\n",
              "1     business  ...  Dollar gains on Greenspan speech  The dollar h...\n",
              "2     business  ...  Yukos unit buyer faces loan claim  The owners ...\n",
              "3     business  ...  High fuel prices hit BA's profits  British Air...\n",
              "4     business  ...  Pernod takeover talk lifts Domecq  Shares in U...\n",
              "...        ...  ...                                                ...\n",
              "2220      tech  ...  BT program to beat dialler scams  BT is introd...\n",
              "2221      tech  ...  Spam e-mails tempt net shoppers  Computer user...\n",
              "2222      tech  ...  Be careful how you code  A new European direct...\n",
              "2223      tech  ...  US cyber security chief resigns  The man makin...\n",
              "2224      tech  ...  Losing yourself in online gaming  Online role ...\n",
              "\n",
              "[2225 rows x 4 columns]"
            ]
          },
          "metadata": {
            "tags": []
          },
          "execution_count": 6
        }
      ]
    },
    {
      "cell_type": "code",
      "metadata": {
        "colab": {
          "base_uri": "https://localhost:8080/",
          "height": 589
        },
        "id": "QYrHDnL9jIUP",
        "outputId": "eba8afd2-b480-499f-95da-7a28aaee92b2"
      },
      "source": [
        "label = pd.get_dummies(bbc.category)\n",
        "new_label = pd.concat([bbc, label], axis=1)\n",
        "new_label = new_label.drop(columns='category')\n",
        "new_label #label/class > 3"
      ],
      "execution_count": 7,
      "outputs": [
        {
          "output_type": "execute_result",
          "data": {
            "text/html": [
              "<div>\n",
              "<style scoped>\n",
              "    .dataframe tbody tr th:only-of-type {\n",
              "        vertical-align: middle;\n",
              "    }\n",
              "\n",
              "    .dataframe tbody tr th {\n",
              "        vertical-align: top;\n",
              "    }\n",
              "\n",
              "    .dataframe thead th {\n",
              "        text-align: right;\n",
              "    }\n",
              "</style>\n",
              "<table border=\"1\" class=\"dataframe\">\n",
              "  <thead>\n",
              "    <tr style=\"text-align: right;\">\n",
              "      <th></th>\n",
              "      <th>title</th>\n",
              "      <th>content</th>\n",
              "      <th>article</th>\n",
              "      <th>business</th>\n",
              "      <th>entertainment</th>\n",
              "      <th>politics</th>\n",
              "      <th>sport</th>\n",
              "      <th>tech</th>\n",
              "    </tr>\n",
              "  </thead>\n",
              "  <tbody>\n",
              "    <tr>\n",
              "      <th>0</th>\n",
              "      <td>Ad sales boost Time Warner profit</td>\n",
              "      <td>Quarterly profits at US media giant TimeWarne...</td>\n",
              "      <td>Ad sales boost Time Warner profit  Quarterly p...</td>\n",
              "      <td>1</td>\n",
              "      <td>0</td>\n",
              "      <td>0</td>\n",
              "      <td>0</td>\n",
              "      <td>0</td>\n",
              "    </tr>\n",
              "    <tr>\n",
              "      <th>1</th>\n",
              "      <td>Dollar gains on Greenspan speech</td>\n",
              "      <td>The dollar has hit its highest level against ...</td>\n",
              "      <td>Dollar gains on Greenspan speech  The dollar h...</td>\n",
              "      <td>1</td>\n",
              "      <td>0</td>\n",
              "      <td>0</td>\n",
              "      <td>0</td>\n",
              "      <td>0</td>\n",
              "    </tr>\n",
              "    <tr>\n",
              "      <th>2</th>\n",
              "      <td>Yukos unit buyer faces loan claim</td>\n",
              "      <td>The owners of embattled Russian oil giant Yuk...</td>\n",
              "      <td>Yukos unit buyer faces loan claim  The owners ...</td>\n",
              "      <td>1</td>\n",
              "      <td>0</td>\n",
              "      <td>0</td>\n",
              "      <td>0</td>\n",
              "      <td>0</td>\n",
              "    </tr>\n",
              "    <tr>\n",
              "      <th>3</th>\n",
              "      <td>High fuel prices hit BA's profits</td>\n",
              "      <td>British Airways has blamed high fuel prices f...</td>\n",
              "      <td>High fuel prices hit BA's profits  British Air...</td>\n",
              "      <td>1</td>\n",
              "      <td>0</td>\n",
              "      <td>0</td>\n",
              "      <td>0</td>\n",
              "      <td>0</td>\n",
              "    </tr>\n",
              "    <tr>\n",
              "      <th>4</th>\n",
              "      <td>Pernod takeover talk lifts Domecq</td>\n",
              "      <td>Shares in UK drinks and food firm Allied Dome...</td>\n",
              "      <td>Pernod takeover talk lifts Domecq  Shares in U...</td>\n",
              "      <td>1</td>\n",
              "      <td>0</td>\n",
              "      <td>0</td>\n",
              "      <td>0</td>\n",
              "      <td>0</td>\n",
              "    </tr>\n",
              "    <tr>\n",
              "      <th>...</th>\n",
              "      <td>...</td>\n",
              "      <td>...</td>\n",
              "      <td>...</td>\n",
              "      <td>...</td>\n",
              "      <td>...</td>\n",
              "      <td>...</td>\n",
              "      <td>...</td>\n",
              "      <td>...</td>\n",
              "    </tr>\n",
              "    <tr>\n",
              "      <th>2220</th>\n",
              "      <td>BT program to beat dialler scams</td>\n",
              "      <td>BT is introducing two initiatives to help bea...</td>\n",
              "      <td>BT program to beat dialler scams  BT is introd...</td>\n",
              "      <td>0</td>\n",
              "      <td>0</td>\n",
              "      <td>0</td>\n",
              "      <td>0</td>\n",
              "      <td>1</td>\n",
              "    </tr>\n",
              "    <tr>\n",
              "      <th>2221</th>\n",
              "      <td>Spam e-mails tempt net shoppers</td>\n",
              "      <td>Computer users across the world continue to i...</td>\n",
              "      <td>Spam e-mails tempt net shoppers  Computer user...</td>\n",
              "      <td>0</td>\n",
              "      <td>0</td>\n",
              "      <td>0</td>\n",
              "      <td>0</td>\n",
              "      <td>1</td>\n",
              "    </tr>\n",
              "    <tr>\n",
              "      <th>2222</th>\n",
              "      <td>Be careful how you code</td>\n",
              "      <td>A new European directive could put software w...</td>\n",
              "      <td>Be careful how you code  A new European direct...</td>\n",
              "      <td>0</td>\n",
              "      <td>0</td>\n",
              "      <td>0</td>\n",
              "      <td>0</td>\n",
              "      <td>1</td>\n",
              "    </tr>\n",
              "    <tr>\n",
              "      <th>2223</th>\n",
              "      <td>US cyber security chief resigns</td>\n",
              "      <td>The man making sure US computer networks are ...</td>\n",
              "      <td>US cyber security chief resigns  The man makin...</td>\n",
              "      <td>0</td>\n",
              "      <td>0</td>\n",
              "      <td>0</td>\n",
              "      <td>0</td>\n",
              "      <td>1</td>\n",
              "    </tr>\n",
              "    <tr>\n",
              "      <th>2224</th>\n",
              "      <td>Losing yourself in online gaming</td>\n",
              "      <td>Online role playing games are time-consuming,...</td>\n",
              "      <td>Losing yourself in online gaming  Online role ...</td>\n",
              "      <td>0</td>\n",
              "      <td>0</td>\n",
              "      <td>0</td>\n",
              "      <td>0</td>\n",
              "      <td>1</td>\n",
              "    </tr>\n",
              "  </tbody>\n",
              "</table>\n",
              "<p>2225 rows × 8 columns</p>\n",
              "</div>"
            ],
            "text/plain": [
              "                                  title  ... tech\n",
              "0     Ad sales boost Time Warner profit  ...    0\n",
              "1      Dollar gains on Greenspan speech  ...    0\n",
              "2     Yukos unit buyer faces loan claim  ...    0\n",
              "3     High fuel prices hit BA's profits  ...    0\n",
              "4     Pernod takeover talk lifts Domecq  ...    0\n",
              "...                                 ...  ...  ...\n",
              "2220   BT program to beat dialler scams  ...    1\n",
              "2221    Spam e-mails tempt net shoppers  ...    1\n",
              "2222            Be careful how you code  ...    1\n",
              "2223    US cyber security chief resigns  ...    1\n",
              "2224   Losing yourself in online gaming  ...    1\n",
              "\n",
              "[2225 rows x 8 columns]"
            ]
          },
          "metadata": {
            "tags": []
          },
          "execution_count": 7
        }
      ]
    },
    {
      "cell_type": "code",
      "metadata": {
        "id": "46VdYaqa-tQP"
      },
      "source": [
        "bbcnews = new_label['article'].values\n",
        "label = new_label[['business', 'entertainment', 'politics', 'sport', 'tech']].values"
      ],
      "execution_count": 8,
      "outputs": []
    },
    {
      "cell_type": "markdown",
      "metadata": {
        "id": "AyjbufI8Ck3o"
      },
      "source": [
        "**Modeling**"
      ]
    },
    {
      "cell_type": "code",
      "metadata": {
        "id": "eUxIEfyrWkFW"
      },
      "source": [
        "#Validation set 20%\n",
        "from sklearn.model_selection import train_test_split\n",
        "x_train, x_test, y_train, y_test = train_test_split(bbcnews, label, test_size=0.2, shuffle=True)"
      ],
      "execution_count": 9,
      "outputs": []
    },
    {
      "cell_type": "code",
      "metadata": {
        "id": "RtHTvRUmXqOJ"
      },
      "source": [
        "#Implementasi Tokenizer\n",
        "from tensorflow.keras.preprocessing.text import Tokenizer\n",
        "from tensorflow.keras.preprocessing.sequence import pad_sequences\n",
        " \n",
        "tokenizer = Tokenizer(num_words=10000, oov_token='x')\n",
        "tokenizer.fit_on_texts(x_train) \n",
        " \n",
        "sekuens_train = tokenizer.texts_to_sequences(x_train)\n",
        "sekuens_test = tokenizer.texts_to_sequences(x_test)\n",
        " \n",
        "padded_train = pad_sequences(sekuens_train, maxlen=200, truncating=\"post\") \n",
        "padded_test = pad_sequences(sekuens_test, maxlen=200, truncating=\"post\")"
      ],
      "execution_count": 10,
      "outputs": []
    },
    {
      "cell_type": "code",
      "metadata": {
        "id": "Stiaw1gRYJ4i"
      },
      "source": [
        "#Implementasi LSTM, Sequential, Embedding, \n",
        "import tensorflow as tf\n",
        "from tensorflow.keras.layers import LSTM,Dense,Embedding,Dropout\n",
        "from tensorflow.keras.models import Sequential\n",
        "from tensorflow.keras.optimizers import Adam\n",
        "model = tf.keras.Sequential([\n",
        "    tf.keras.layers.Embedding(input_dim=10000, output_dim=64, input_length=200),\n",
        "    tf.keras.layers.LSTM(128),\n",
        "    tf.keras.layers.Dense(128, activation='relu'),\n",
        "    tf.keras.layers.Dropout(0.5),\n",
        "    tf.keras.layers.Dense(5, activation='softmax')\n",
        "])\n",
        "model.compile(loss='categorical_crossentropy',\n",
        "              optimizer='Adam',\n",
        "              metrics=['accuracy'])"
      ],
      "execution_count": 11,
      "outputs": []
    },
    {
      "cell_type": "code",
      "metadata": {
        "id": "q5mYlmFWOWPy"
      },
      "source": [
        "#Implementasi Callback\n",
        "class myCallback(tf.keras.callbacks.Callback):\n",
        "  def on_epoch_end(self, epoch, logs={}):\n",
        "    if(logs.get('accuracy')>0.91 and logs.get('val_accuracy')>0.91):\n",
        "      self.model.stop_training = True\n",
        "      print(\"\\nTraining dihentikan, target akurasi pada training set dan validation set telah mencapai lebih dari 90%\")\n",
        "callbacks = myCallback()"
      ],
      "execution_count": 12,
      "outputs": []
    },
    {
      "cell_type": "code",
      "metadata": {
        "colab": {
          "base_uri": "https://localhost:8080/"
        },
        "id": "2e2Xz8czYVzf",
        "outputId": "09a335a3-f8fb-420f-cde8-d9c974772c0a"
      },
      "source": [
        "num_epochs = 30\n",
        "history = model.fit(padded_train, y_train, epochs=num_epochs, \n",
        "                    validation_data=(padded_test, y_test), verbose=2, callbacks=[callbacks])"
      ],
      "execution_count": 13,
      "outputs": [
        {
          "output_type": "stream",
          "text": [
            "Epoch 1/30\n",
            "56/56 - 16s - loss: 1.5765 - accuracy: 0.2640 - val_loss: 1.2858 - val_accuracy: 0.4742\n",
            "Epoch 2/30\n",
            "56/56 - 13s - loss: 1.3264 - accuracy: 0.4551 - val_loss: 1.1029 - val_accuracy: 0.5124\n",
            "Epoch 3/30\n",
            "56/56 - 13s - loss: 0.9011 - accuracy: 0.6163 - val_loss: 0.9834 - val_accuracy: 0.5416\n",
            "Epoch 4/30\n",
            "56/56 - 13s - loss: 0.4089 - accuracy: 0.8730 - val_loss: 0.8929 - val_accuracy: 0.6584\n",
            "Epoch 5/30\n",
            "56/56 - 13s - loss: 0.3552 - accuracy: 0.9034 - val_loss: 0.3990 - val_accuracy: 0.8831\n",
            "Epoch 6/30\n",
            "56/56 - 13s - loss: 0.1054 - accuracy: 0.9764 - val_loss: 0.3460 - val_accuracy: 0.9011\n",
            "Epoch 7/30\n",
            "56/56 - 13s - loss: 0.0761 - accuracy: 0.9843 - val_loss: 0.4999 - val_accuracy: 0.8382\n",
            "Epoch 8/30\n",
            "56/56 - 13s - loss: 0.0104 - accuracy: 0.9989 - val_loss: 0.3912 - val_accuracy: 0.8989\n",
            "Epoch 9/30\n",
            "56/56 - 13s - loss: 0.0020 - accuracy: 1.0000 - val_loss: 0.3726 - val_accuracy: 0.9079\n",
            "Epoch 10/30\n",
            "56/56 - 13s - loss: 0.0019 - accuracy: 0.9994 - val_loss: 0.8022 - val_accuracy: 0.8494\n",
            "Epoch 11/30\n",
            "56/56 - 13s - loss: 0.0461 - accuracy: 0.9888 - val_loss: 0.5078 - val_accuracy: 0.8719\n",
            "Epoch 12/30\n",
            "56/56 - 13s - loss: 0.0028 - accuracy: 1.0000 - val_loss: 0.4919 - val_accuracy: 0.8921\n",
            "Epoch 13/30\n",
            "56/56 - 13s - loss: 0.0020 - accuracy: 0.9994 - val_loss: 0.4836 - val_accuracy: 0.8921\n",
            "Epoch 14/30\n",
            "56/56 - 13s - loss: 0.0109 - accuracy: 0.9983 - val_loss: 0.5090 - val_accuracy: 0.8764\n",
            "Epoch 15/30\n",
            "56/56 - 13s - loss: 0.0017 - accuracy: 1.0000 - val_loss: 0.4647 - val_accuracy: 0.8944\n",
            "Epoch 16/30\n",
            "56/56 - 13s - loss: 7.4163e-04 - accuracy: 1.0000 - val_loss: 0.4475 - val_accuracy: 0.9034\n",
            "Epoch 17/30\n",
            "56/56 - 13s - loss: 5.9808e-04 - accuracy: 1.0000 - val_loss: 0.4480 - val_accuracy: 0.9079\n",
            "Epoch 18/30\n",
            "56/56 - 13s - loss: 4.6104e-04 - accuracy: 1.0000 - val_loss: 0.4447 - val_accuracy: 0.9146\n",
            "\n",
            "Training dihentikan, target akurasi pada training set dan validation set telah mencapai lebih dari 90%\n"
          ],
          "name": "stdout"
        }
      ]
    },
    {
      "cell_type": "markdown",
      "metadata": {
        "id": "xjJy16H0LC3V"
      },
      "source": [
        "**Evaluation**\n"
      ]
    },
    {
      "cell_type": "code",
      "metadata": {
        "id": "IIogdOeiYfGK"
      },
      "source": [
        "import matplotlib.pyplot as plt"
      ],
      "execution_count": 14,
      "outputs": []
    },
    {
      "cell_type": "code",
      "metadata": {
        "colab": {
          "base_uri": "https://localhost:8080/",
          "height": 312
        },
        "id": "ELAcbffbNXin",
        "outputId": "68bd617b-e3e1-474d-fb3c-90f3dafb99d9"
      },
      "source": [
        "#Plot Akurasi\n",
        "plt.title('Accuracy')\n",
        "plt.ylabel('accuracy')\n",
        "plt.xlabel('epoch')\n",
        "plt.plot(history.history['accuracy'], label='training_set')\n",
        "plt.plot(history.history['val_accuracy'], label='validation_set')\n",
        "plt.legend()"
      ],
      "execution_count": 15,
      "outputs": [
        {
          "output_type": "execute_result",
          "data": {
            "text/plain": [
              "<matplotlib.legend.Legend at 0x7fd3d08fdf90>"
            ]
          },
          "metadata": {
            "tags": []
          },
          "execution_count": 15
        },
        {
          "output_type": "display_data",
          "data": {
            "image/png": "[encoded data removed]",
            "text/plain": [
              "<Figure size 432x288 with 1 Axes>"
            ]
          },
          "metadata": {
            "tags": [],
            "needs_background": "light"
          }
        }
      ]
    },
    {
      "cell_type": "code",
      "metadata": {
        "colab": {
          "base_uri": "https://localhost:8080/",
          "height": 312
        },
        "id": "3bUzFCoiKLm6",
        "outputId": "96206d10-2152-4c96-8b23-fd10a1f392ca"
      },
      "source": [
        "#Plot Loss\n",
        "plt.title('Loss')\n",
        "plt.ylabel('loss')\n",
        "plt.xlabel('epoch')\n",
        "plt.plot(history.history['loss'], label='loss')\n",
        "plt.plot(history.history['val_loss'], label='val_loss')\n",
        "plt.legend()"
      ],
      "execution_count": 16,
      "outputs": [
        {
          "output_type": "execute_result",
          "data": {
            "text/plain": [
              "<matplotlib.legend.Legend at 0x7fd3d03f83d0>"
            ]
          },
          "metadata": {
            "tags": []
          },
          "execution_count": 16
        },
        {
          "output_type": "display_data",
          "data": {
            "image/png": "[encoded data removed]",
            "text/plain": [
              "<Figure size 432x288 with 1 Axes>"
            ]
          },
          "metadata": {
            "tags": [],
            "needs_background": "light"
          }
        }
      ]
    }
  ]
}
