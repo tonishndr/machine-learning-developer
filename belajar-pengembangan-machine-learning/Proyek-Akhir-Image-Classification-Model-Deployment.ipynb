{
  "nbformat": 4,
  "nbformat_minor": 0,
  "metadata": {
    "colab": {
      "name": "3rdFinalProjectBPML_submission.ipynb",
      "provenance": [],
      "collapsed_sections": []
    },
    "kernelspec": {
      "name": "python3",
      "display_name": "Python 3"
    },
    "language_info": {
      "name": "python"
    },
    "accelerator": "GPU"
  },
  "cells": [
    {
      "cell_type": "markdown",
      "metadata": {
        "id": "bpbW89VOmx2L"
      },
      "source": [
        "**Data Preparation**"
      ]
    },
    {
      "cell_type": "code",
      "metadata": {
        "id": "eu9dVN_ndu6Y"
      },
      "source": [
        "import os\n",
        "os.environ['KAGGLE_USERNAME'] = \"KAGGLE_USERNAME\"\n",
        "os.environ['KAGGLE_KEY'] = \"KAGGLE_KEY\" "
      ],
      "execution_count": 1,
      "outputs": []
    },
    {
      "cell_type": "code",
      "metadata": {
        "colab": {
          "base_uri": "https://localhost:8080/"
        },
        "id": "9jefKnoGfrWy",
        "outputId": "f7867407-0281-45ac-b5fa-a1a2047e6bab"
      },
      "source": [
        "!kaggle datasets download -d madisona/translated-animals10"
      ],
      "execution_count": 2,
      "outputs": [
        {
          "output_type": "stream",
          "text": [
            "Downloading translated-animals10.zip to /content\n",
            " 96% 561M/586M [00:03<00:00, 174MB/s]\n",
            "100% 586M/586M [00:03<00:00, 162MB/s]\n"
          ],
          "name": "stdout"
        }
      ]
    },
    {
      "cell_type": "code",
      "metadata": {
        "id": "TnmUToukgRSB"
      },
      "source": [
        "!unzip -q translated-animals10.zip -d ."
      ],
      "execution_count": 3,
      "outputs": []
    },
    {
      "cell_type": "code",
      "metadata": {
        "colab": {
          "base_uri": "https://localhost:8080/"
        },
        "id": "jcTOJFjPUdGn",
        "outputId": "e0f1599f-ecf9-4d7e-9320-670fb1c4e861"
      },
      "source": [
        "!ls animals10/raw-img/"
      ],
      "execution_count": 4,
      "outputs": [
        {
          "output_type": "stream",
          "text": [
            "butterfly  cat\tchicken  cow  dog  elephant  horse  sheep  spider  squirrel\n"
          ],
          "name": "stdout"
        }
      ]
    },
    {
      "cell_type": "code",
      "metadata": {
        "colab": {
          "base_uri": "https://localhost:8080/"
        },
        "id": "95sDWHJUUtxH",
        "outputId": "0a012c8c-25e0-4d41-f6c1-40bd81c87635"
      },
      "source": [
        "cd animals10/raw-img/\n"
      ],
      "execution_count": 5,
      "outputs": [
        {
          "output_type": "stream",
          "text": [
            "/content/animals10/raw-img\n"
          ],
          "name": "stdout"
        }
      ]
    },
    {
      "cell_type": "code",
      "metadata": {
        "id": "7iP6FRYSWq6I"
      },
      "source": [
        "!rm -rf elephant  horse  sheep  spider  squirrel"
      ],
      "execution_count": 6,
      "outputs": []
    },
    {
      "cell_type": "code",
      "metadata": {
        "colab": {
          "base_uri": "https://localhost:8080/"
        },
        "id": "gUfc3-BNWzmn",
        "outputId": "43f3d36e-785a-4e34-d1f9-fe5da5d8c20e"
      },
      "source": [
        "cd /content/\n"
      ],
      "execution_count": 7,
      "outputs": [
        {
          "output_type": "stream",
          "text": [
            "/content\n"
          ],
          "name": "stdout"
        }
      ]
    },
    {
      "cell_type": "code",
      "metadata": {
        "colab": {
          "base_uri": "https://localhost:8080/"
        },
        "id": "pECWMmCCVxCh",
        "outputId": "f5c3b523-3299-41f3-d6f5-05ed7c1a9637"
      },
      "source": [
        "!ls animals10/raw-img/"
      ],
      "execution_count": 8,
      "outputs": [
        {
          "output_type": "stream",
          "text": [
            "butterfly  cat\tchicken  cow  dog\n"
          ],
          "name": "stdout"
        }
      ]
    },
    {
      "cell_type": "code",
      "metadata": {
        "colab": {
          "base_uri": "https://localhost:8080/"
        },
        "id": "HT0XQUiTiwDi",
        "outputId": "05685236-5195-4539-bab6-1abf3a631f23"
      },
      "source": [
        "dataset = os.path.join('/content/animals10/raw-img')\n",
        "\n",
        "animals5 = os.listdir(dataset)\n",
        "print(animals5)"
      ],
      "execution_count": 9,
      "outputs": [
        {
          "output_type": "stream",
          "text": [
            "['butterfly', 'dog', 'chicken', 'cat', 'cow']\n"
          ],
          "name": "stdout"
        }
      ]
    },
    {
      "cell_type": "code",
      "metadata": {
        "colab": {
          "base_uri": "https://localhost:8080/"
        },
        "id": "kZJGTgtJ44rg",
        "outputId": "528623b9-493a-4ed6-8300-467bcafea8f3"
      },
      "source": [
        "from PIL import Image\n",
        "total = 0\n",
        "\n",
        "for i in animals5:\n",
        "  dir = os.path.join(dataset, i)\n",
        "  x = len(os.listdir(dir))\n",
        "  print(i+':', x)\n",
        "  total = total + x\n",
        "  \n",
        "  img_name = os.listdir(dir)\n",
        "  for y in range(5):\n",
        "    img_path = os.path.join(dir, img_name[y])\n",
        "    img = Image.open(img_path)\n",
        "    print('-',img.size)\n",
        "\n",
        "print(f'Resolusi gambar tidak seragam.')\n",
        "print(f'Sampel ada {total} gambar, Lebih dari 10000 sampel/gambar.')"
      ],
      "execution_count": 10,
      "outputs": [
        {
          "output_type": "stream",
          "text": [
            "butterfly: 2112\n",
            "- (300, 300)\n",
            "- (300, 188)\n",
            "- (300, 244)\n",
            "- (300, 225)\n",
            "- (300, 300)\n",
            "dog: 4863\n",
            "- (300, 184)\n",
            "- (300, 225)\n",
            "- (177, 300)\n",
            "- (300, 200)\n",
            "- (300, 226)\n",
            "chicken: 3098\n",
            "- (300, 225)\n",
            "- (241, 300)\n",
            "- (300, 232)\n",
            "- (300, 200)\n",
            "- (300, 169)\n",
            "cat: 1668\n",
            "- (300, 197)\n",
            "- (300, 169)\n",
            "- (228, 300)\n",
            "- (222, 300)\n",
            "- (300, 199)\n",
            "cow: 1866\n",
            "- (300, 180)\n",
            "- (300, 225)\n",
            "- (300, 157)\n",
            "- (300, 200)\n",
            "- (300, 200)\n",
            "Resolusi gambar tidak seragam.\n",
            "Sampel ada 13607 gambar, Lebih dari 10000 sampel/gambar.\n"
          ],
          "name": "stdout"
        }
      ]
    },
    {
      "cell_type": "markdown",
      "metadata": {
        "id": "9ceimUjJ3R5T"
      },
      "source": [
        "**Modeling**"
      ]
    },
    {
      "cell_type": "code",
      "metadata": {
        "id": "NtBCJl4u3AWI"
      },
      "source": [
        "# Dataset dibagi menjadi 80% train set dan 20% test set\n",
        "from tensorflow.keras.preprocessing.image import ImageDataGenerator\n",
        "\n",
        "train_datagen = ImageDataGenerator(\n",
        "                    # brightness_range = [0.2,1.0],\n",
        "                    rescale = 1./255,\n",
        "                    rotation_range = 40,\n",
        "                    horizontal_flip = True,\n",
        "                    # vertical_flip = True,\n",
        "                    width_shift_range=0.2,\n",
        "                    height_shift_range=0.2,\n",
        "                    shear_range = 0.2,\n",
        "                    zoom_range = 0.2,\n",
        "                    fill_mode = 'nearest',\n",
        "                    validation_split = 0.2                                      \n",
        "                  )"
      ],
      "execution_count": 11,
      "outputs": []
    },
    {
      "cell_type": "code",
      "metadata": {
        "colab": {
          "base_uri": "https://localhost:8080/"
        },
        "id": "EsNunOfQ3G13",
        "outputId": "92524d65-899c-4b4e-bf5e-a303f31ac859"
      },
      "source": [
        "train_generator = train_datagen.flow_from_directory(\n",
        "    dataset,\n",
        "    target_size = (150, 150),\n",
        "    batch_size = 256,\n",
        "    # color_mode = \"rgb\",\n",
        "    class_mode = 'categorical',\n",
        "    subset = 'training'\n",
        "    )\n",
        "\n",
        "validation_generator = train_datagen.flow_from_directory(\n",
        "    dataset,\n",
        "    target_size = (150, 150),\n",
        "    batch_size = 256,\n",
        "    class_mode = 'categorical',\n",
        "    # color_mode = \"rgb\",\n",
        "    subset = 'validation'\n",
        "    )"
      ],
      "execution_count": 12,
      "outputs": [
        {
          "output_type": "stream",
          "text": [
            "Found 10888 images belonging to 5 classes.\n",
            "Found 2719 images belonging to 5 classes.\n"
          ],
          "name": "stdout"
        }
      ]
    },
    {
      "cell_type": "code",
      "metadata": {
        "id": "L_0de-7434qb",
        "colab": {
          "base_uri": "https://localhost:8080/"
        },
        "outputId": "95860609-8845-4d23-ed3c-2d94d7b80f7c"
      },
      "source": [
        "# Implementasi Sequential, Conv2D Maxpooling Layer menggunakan ResNet (TransferLearning)\n",
        "import tensorflow as tf\n",
        "from tensorflow.keras.models import Sequential\n",
        "from tensorflow.keras.layers import Activation, Dense, Flatten\n",
        "from tensorflow.keras.layers import Dropout\n",
        "from tensorflow.keras.optimizers import Adam\n",
        "from tensorflow.keras.layers import Input\n",
        "from tensorflow.keras.applications import ResNet50\n",
        "from tensorflow.keras.applications import ResNet152V2\n",
        "\n",
        "\n",
        "model = tf.keras.models.Sequential([\n",
        "                                    ResNet152V2(weights='imagenet', include_top=False, input_tensor=Input(shape=(150, 150, 3))),\n",
        "                                    tf.keras.layers.Flatten(),\n",
        "                                    tf.keras.layers.Dropout(0.5),\n",
        "                                    tf.keras.layers.Dense(512, activation='relu'),\n",
        "                                    tf.keras.layers.Dense(256, activation='relu'),\n",
        "                                    tf.keras.layers.Dense(5, activation='softmax')\n",
        "])\n",
        "model.layers[0].trainable = False\n",
        "\n",
        "model.summary()"
      ],
      "execution_count": 13,
      "outputs": [
        {
          "output_type": "stream",
          "text": [
            "Model: \"sequential\"\n",
            "_________________________________________________________________\n",
            "Layer (type)                 Output Shape              Param #   \n",
            "=================================================================\n",
            "resnet152v2 (Functional)     (None, 5, 5, 2048)        58331648  \n",
            "_________________________________________________________________\n",
            "flatten (Flatten)            (None, 51200)             0         \n",
            "_________________________________________________________________\n",
            "dropout (Dropout)            (None, 51200)             0         \n",
            "_________________________________________________________________\n",
            "dense (Dense)                (None, 512)               26214912  \n",
            "_________________________________________________________________\n",
            "dense_1 (Dense)              (None, 256)               131328    \n",
            "_________________________________________________________________\n",
            "dense_2 (Dense)              (None, 5)                 1285      \n",
            "=================================================================\n",
            "Total params: 84,679,173\n",
            "Trainable params: 26,347,525\n",
            "Non-trainable params: 58,331,648\n",
            "_________________________________________________________________\n"
          ],
          "name": "stdout"
        }
      ]
    },
    {
      "cell_type": "code",
      "metadata": {
        "id": "-sXx647Fyjzu"
      },
      "source": [
        "model.compile(loss='categorical_crossentropy',\n",
        "              optimizer='adam',\n",
        "              metrics = ['accuracy'])"
      ],
      "execution_count": 14,
      "outputs": []
    },
    {
      "cell_type": "code",
      "metadata": {
        "id": "T2dOj4yQ4IDX"
      },
      "source": [
        "#Implementasi Callback\n",
        "class myCallback(tf.keras.callbacks.Callback):\n",
        "  def on_epoch_end(self, epoch, logs={}):\n",
        "    if(logs.get('accuracy')>0.92 and logs.get('val_accuracy')>0.92):\n",
        "      print(\"\\nTraining dihentikan, nilai akurasi pada training set dan validation set sudah mencapai target yaitu > 92%\")\n",
        "      self.model.stop_training = True\n",
        "callbacks = myCallback()"
      ],
      "execution_count": 15,
      "outputs": []
    },
    {
      "cell_type": "code",
      "metadata": {
        "colab": {
          "base_uri": "https://localhost:8080/"
        },
        "id": "4DghwrHZ4Yws",
        "outputId": "14d4b8a5-0378-4658-8754-9ee433531cc0"
      },
      "source": [
        "history = model.fit(train_generator, \n",
        "                    epochs = 100, \n",
        "                    steps_per_epoch = train_generator.samples // 256,\n",
        "                    validation_data = validation_generator, \n",
        "                    validation_steps = validation_generator.samples // 256,\n",
        "                    verbose = 1,\n",
        "                    callbacks = [callbacks])"
      ],
      "execution_count": 16,
      "outputs": [
        {
          "output_type": "stream",
          "text": [
            "Epoch 1/100\n",
            "42/42 [==============================] - 120s 3s/step - loss: 5.8000 - accuracy: 0.7767 - val_loss: 0.4746 - val_accuracy: 0.8996\n",
            "Epoch 2/100\n",
            "42/42 [==============================] - 102s 2s/step - loss: 0.5717 - accuracy: 0.8870 - val_loss: 0.3599 - val_accuracy: 0.9141\n",
            "Epoch 3/100\n",
            "42/42 [==============================] - 102s 2s/step - loss: 0.4331 - accuracy: 0.8901 - val_loss: 0.3682 - val_accuracy: 0.9137\n",
            "Epoch 4/100\n",
            "42/42 [==============================] - 102s 2s/step - loss: 0.3793 - accuracy: 0.8984 - val_loss: 0.3431 - val_accuracy: 0.9047\n",
            "Epoch 5/100\n",
            "42/42 [==============================] - 102s 2s/step - loss: 0.4100 - accuracy: 0.8942 - val_loss: 0.2857 - val_accuracy: 0.9164\n",
            "Epoch 6/100\n",
            "42/42 [==============================] - 102s 2s/step - loss: 0.3170 - accuracy: 0.9055 - val_loss: 0.3067 - val_accuracy: 0.9074\n",
            "Epoch 7/100\n",
            "42/42 [==============================] - 102s 2s/step - loss: 0.2784 - accuracy: 0.9105 - val_loss: 0.2581 - val_accuracy: 0.9219\n",
            "Epoch 8/100\n",
            "42/42 [==============================] - 102s 2s/step - loss: 0.2519 - accuracy: 0.9159 - val_loss: 0.2423 - val_accuracy: 0.9215\n",
            "Epoch 9/100\n",
            "42/42 [==============================] - 102s 2s/step - loss: 0.2338 - accuracy: 0.9164 - val_loss: 0.2340 - val_accuracy: 0.9254\n",
            "Epoch 10/100\n",
            "42/42 [==============================] - 102s 2s/step - loss: 0.2349 - accuracy: 0.9167 - val_loss: 0.2165 - val_accuracy: 0.9309\n",
            "Epoch 11/100\n",
            "42/42 [==============================] - 102s 2s/step - loss: 0.2355 - accuracy: 0.9165 - val_loss: 0.2147 - val_accuracy: 0.9281\n",
            "Epoch 12/100\n",
            "42/42 [==============================] - 102s 2s/step - loss: 0.2083 - accuracy: 0.9277 - val_loss: 0.2177 - val_accuracy: 0.9242\n",
            "\n",
            "Training dihentikan, nilai akurasi pada training set dan validation set sudah mencapai target yaitu > 92%\n"
          ],
          "name": "stdout"
        }
      ]
    },
    {
      "cell_type": "markdown",
      "metadata": {
        "id": "24ogFs2V3H3K"
      },
      "source": [
        "**Evaluation**"
      ]
    },
    {
      "cell_type": "code",
      "metadata": {
        "id": "NFr2QkL89SdB",
        "colab": {
          "base_uri": "https://localhost:8080/",
          "height": 312
        },
        "outputId": "ce057a27-8d8c-4082-8462-6e81e146e8f4"
      },
      "source": [
        "import matplotlib.pyplot as plt\n",
        "#Plot Accuracy\n",
        "plt.title('Accuracy')\n",
        "plt.ylabel('accuracy')\n",
        "plt.xlabel('epoch')\n",
        "plt.plot(history.history['accuracy'], label='training_set')\n",
        "plt.plot(history.history['val_accuracy'], label='validation_set')\n",
        "plt.legend()"
      ],
      "execution_count": 17,
      "outputs": [
        {
          "output_type": "execute_result",
          "data": {
            "text/plain": [
              "<matplotlib.legend.Legend at 0x7f529c250890>"
            ]
          },
          "metadata": {
            "tags": []
          },
          "execution_count": 17
        },
        {
          "output_type": "display_data",
          "data": {
            "image/png": "[encoded data removed]",
            "text/plain": [
              "<Figure size 432x288 with 1 Axes>"
            ]
          },
          "metadata": {
            "tags": [],
            "needs_background": "light"
          }
        }
      ]
    },
    {
      "cell_type": "code",
      "metadata": {
        "id": "SZhdvHg7lIJm",
        "colab": {
          "base_uri": "https://localhost:8080/",
          "height": 312
        },
        "outputId": "c7d4ee0c-2e64-430b-bccb-3b00fcc9e654"
      },
      "source": [
        "#Plot Loss\n",
        "plt.title('Loss')\n",
        "plt.ylabel('loss')\n",
        "plt.xlabel('epoch')\n",
        "plt.plot(history.history['loss'], label='loss')\n",
        "plt.plot(history.history['val_loss'], label='val_loss')\n",
        "plt.legend()"
      ],
      "execution_count": 18,
      "outputs": [
        {
          "output_type": "execute_result",
          "data": {
            "text/plain": [
              "<matplotlib.legend.Legend at 0x7f52edfce850>"
            ]
          },
          "metadata": {
            "tags": []
          },
          "execution_count": 18
        },
        {
          "output_type": "display_data",
          "data": {
            "image/png": "[encoded data removed]",
            "text/plain": [
              "<Figure size 432x288 with 1 Axes>"
            ]
          },
          "metadata": {
            "tags": [],
            "needs_background": "light"
          }
        }
      ]
    },
    {
      "cell_type": "code",
      "metadata": {
        "id": "bgxeke7sleOE",
        "colab": {
          "base_uri": "https://localhost:8080/"
        },
        "outputId": "0d435166-2b91-47dd-d0a6-150d05f39567"
      },
      "source": [
        "# Menyimpan model ke dalam format TF-Lite.\n",
        "converter = tf.lite.TFLiteConverter.from_keras_model(model)\n",
        "tflite_model = converter.convert()\n",
        "\n",
        "with tf.io.gfile.GFile('model.tflite', 'wb') as f:\n",
        "  f.write(tflite_model)"
      ],
      "execution_count": 19,
      "outputs": [
        {
          "output_type": "stream",
          "text": [
            "INFO:tensorflow:Assets written to: /tmp/tmp0f8kre69/assets\n"
          ],
          "name": "stdout"
        },
        {
          "output_type": "stream",
          "text": [
            "/usr/local/lib/python3.7/dist-packages/keras/utils/generic_utils.py:497: CustomMaskWarning: Custom mask layers require a config and must override get_config. When loading, the custom mask layer must be passed to the custom_objects argument.\n",
            "  category=CustomMaskWarning)\n"
          ],
          "name": "stderr"
        }
      ]
    },
    {
      "cell_type": "code",
      "metadata": {
        "id": "hNMHqregltmO",
        "colab": {
          "base_uri": "https://localhost:8080/"
        },
        "outputId": "54637503-1aa8-4c1f-cd67-d6023497fd0d"
      },
      "source": [
        "!ls -la | grep 'model'"
      ],
      "execution_count": 20,
      "outputs": [
        {
          "output_type": "stream",
          "text": [
            "-rw-r--r-- 1 root root 338204728 Aug 18 14:58 model.tflite\n"
          ],
          "name": "stdout"
        }
      ]
    }
  ]
}
